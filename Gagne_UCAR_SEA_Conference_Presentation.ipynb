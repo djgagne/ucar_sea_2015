{
 "cells": [
  {
   "cell_type": "markdown",
   "metadata": {
    "slideshow": {
     "slide_type": "slide"
    }
   },
   "source": [
    "<h1 align='center'>Utilizing Scientific Python Tools for the Application of Data Science Techniques to High Impact Weather Prediction</h1>\n",
    "<h2 align='center'>David John Gagne II</h2>\n",
    "<h3 align='center'>University of Oklahoma/National Center for Atmospheric Research</h3>\n",
    "<h4 align='center'>April 13, 2015</h4>\n",
    "<h4 align='center'>2015 UCAR SEA Conference</h4>"
   ]
  },
  {
   "cell_type": "markdown",
   "metadata": {
    "collapsed": false,
    "slideshow": {
     "slide_type": "slide"
    }
   },
   "source": [
    "# Acknowledgements\n",
    "* OU Advisor: Amy McGovern\n",
    "* NCAR Advisors: Sue Haupt and John Williams\n",
    "* CAPS: Ming Xue, Kevin Thomas, Chris Cook\n",
    "* NOAA: Jimmy Correia, Adam Clark, Michael Coniglio\n",
    "* SHARP Team: Nate Snook, Youngsun Jung, Jon Labriola\n",
    "* GRAFS Team: Seth Linden, Gerry Wiener, Bill Petzke, Jared Lee\n"
   ]
  },
  {
   "cell_type": "markdown",
   "metadata": {
    "collapsed": true,
    "slideshow": {
     "slide_type": "slide"
    }
   },
   "source": [
    "# Motivation\n",
    "* High impact weather includes weather phenomena that cause large personal and/or economic losses"
   ]
  },
  {
   "cell_type": "markdown",
   "metadata": {
    "slideshow": {
     "slide_type": "fragment"
    }
   },
   "source": [
    "* Includes extreme weather disasters\n",
    "    * Hurricanes, tornadoes, __hail__, floods"
   ]
  },
  {
   "cell_type": "markdown",
   "metadata": {
    "slideshow": {
     "slide_type": "fragment"
    }
   },
   "source": [
    "* Also includes \"normal\" weather events with economic effects\n",
    "    * __Unforseen partly cloudy day causes unexpected fluctuations in solar power generation__\n",
    "    * Ill-timed rainstorm delays wheat harvest\n",
    "    * Mild, dry, weather closes ski resort early"
   ]
  },
  {
   "cell_type": "markdown",
   "metadata": {
    "slideshow": {
     "slide_type": "slide"
    }
   },
   "source": [
    "#Python and Data Science in High Impact Weather Prediction\n",
    "* Bridge the gap from raw numerical weather prediction model output to actionable information\n",
    "    * Pre-processing model output\n",
    "    * Compiling databases of historical model runs and observations\n",
    "    * Applying statistical learning models to correct output and make derived products\n",
    "    * Visualizing model output\n",
    "    * Distributing information to users"
   ]
  },
  {
   "cell_type": "markdown",
   "metadata": {
    "collapsed": true,
    "slideshow": {
     "slide_type": "slide"
    }
   },
   "source": [
    "#Interactive Demonstrations\n",
    "* Hail Size Prediction\n",
    "    * Locating hail swaths with image processing techniques\n",
    "    * Visualizing storm-scale model output\n",
    "* Solar Irradiance Prediction\n",
    "    * Train statistical learning models to connect NWP model output with pyranometer observations\n",
    "    * Validate skill of model predictions"
   ]
  },
  {
   "cell_type": "markdown",
   "metadata": {
    "slideshow": {
     "slide_type": "slide"
    }
   },
   "source": [
    "#Hail Size Prediction Libraries\n"
   ]
  },
  {
   "cell_type": "code",
   "execution_count": 1,
   "metadata": {
    "collapsed": false,
    "slideshow": {
     "slide_type": "-"
    }
   },
   "outputs": [],
   "source": [
    "# Useful general libraries\n",
    "%matplotlib inline\n",
    "import numpy as np\n",
    "import pandas as pd\n",
    "import matplotlib.pyplot as plt\n",
    "from mpl_toolkits.basemap import Basemap\n",
    "from netCDF4 import Dataset\n",
    "# Custom image segmentation libraries\n",
    "from hail.EnhancedWatershedSegmenter import EnhancedWatershed\n",
    "from hail.Hysteresis import Hysteresis\n",
    "from scipy.ndimage import gaussian_filter"
   ]
  },
  {
   "cell_type": "markdown",
   "metadata": {
    "slideshow": {
     "slide_type": "slide"
    }
   },
   "source": [
    "# Data: NOAA NSSL Multi-Radar Multi-Sensor Maximum Estimated Size of Hail"
   ]
  },
  {
   "cell_type": "code",
   "execution_count": 8,
   "metadata": {
    "collapsed": false
   },
   "outputs": [
    {
     "data": {
      "image/png": "[encoded data removed]",
      "text/plain": [
       "<matplotlib.figure.Figure at 0x24907fed0>"
      ]
     },
     "metadata": {},
     "output_type": "display_data"
    }
   ],
   "source": [
    "# Load MESH data and plot it\n",
    "with Dataset(\"data/MESH_4km_20140603-00:00_20140603-23:00\") as mesh_file:\n",
    "    lon = mesh_file.variables['lon'][:]\n",
    "    lat = mesh_file.variables['lat'][:]\n",
    "    mesh_data = mesh_file.variables['MESH'][:]\n",
    "bmap = Basemap(projection='cyl', resolution='l', \n",
    "               llcrnrlon=-105, urcrnrlon=-92,\n",
    "               llcrnrlat=40, urcrnrlat=45)\n",
    "plt.figure(figsize=(10,6))\n",
    "bmap.drawstates()\n",
    "bmap.drawlsmask()\n",
    "cont = plt.contourf(lon, lat, mesh_data[22], \n",
    "             np.arange(5,105,5), cmap=\"PuBuGn_r\")\n",
    "cbar = plt.colorbar(orientation=\"horizontal\",shrink=0.9,fraction=0.1, pad=0.01)\n",
    "title_obj = plt.title(\"MESH Swaths: June 3, 2014\")"
   ]
  },
  {
   "cell_type": "markdown",
   "metadata": {
    "slideshow": {
     "slide_type": "slide"
    }
   },
   "source": [
    "#Image Segmentation\n",
    "* Split image into distinct regions or objects based on intensity values\n",
    "* Thresholding: objects are contiguous areas with intensities above a specified threshold\n",
    "* Hysteresis: contiguous areas above a threshold containing at least 1 point above a second threshold\n",
    "* Watershed: objects are \"grown\" from local maxima in layers until a minimum intensity is met\n",
    "* Enhanced Watershed (Lakshmanan et al. 2009): Adds size criteria, buffer regions around objects, and other enhancements"
   ]
  },
  {
   "cell_type": "markdown",
   "metadata": {
    "slideshow": {
     "slide_type": "slide"
    }
   },
   "source": [
    "# Image Segmentation Examples"
   ]
  },
  {
   "cell_type": "code",
   "execution_count": 10,
   "metadata": {
    "collapsed": false
   },
   "outputs": [
    {
     "data": {
      "image/png": "[encoded data removed]",
      "text/plain": [
       "<matplotlib.figure.Figure at 0x37e3d01d0>"
      ]
     },
     "metadata": {},
     "output_type": "display_data"
    }
   ],
   "source": [
    "hyst = Hysteresis(5,25)\n",
    "ew = EnhancedWatershed(5,5,100,200,10)\n",
    "hyst_image = hyst.label(mesh_data[22])\n",
    "ew_image = ew.label(mesh_data[22])\n",
    "ew_image = ew.size_filter(ew_image, 100)\n",
    "plt.figure(figsize=(15,5))\n",
    "plt.subplot(1,2,1)\n",
    "bmap.drawstates()\n",
    "ht = plt.title(\"Hysteresis\")\n",
    "pcol = plt.pcolormesh(lon, lat, np.ma.array(hyst_image,mask=hyst_image < 1), vmin=1, cmap=plt.get_cmap('Set1', hyst_image.max()))\n",
    "plt.subplot(1,2,2)\n",
    "bmap.drawstates()\n",
    "et = plt.title(\"Enhanced Watershed\")\n",
    "pcol = plt.pcolormesh(lon, lat, np.ma.array(ew_image, mask=ew_image < 1), vmin=1,cmap=plt.get_cmap('Set1', ew_image.max()))"
   ]
  },
  {
   "cell_type": "markdown",
   "metadata": {
    "slideshow": {
     "slide_type": "slide"
    }
   },
   "source": [
    "#Hysteresis vs. Enhanced Watershed\n",
    "* Hysteresis\n",
    "    1. Only 2 parameters to set\n",
    "    2. Captures entirety of regions\n",
    "    3. Can combine seemingly distinct objects\n",
    "* Enhanced Watershed\n",
    "    1. Captures different scales depending on size threshold\n",
    "    2. Captures core of objects\n",
    "    3. Can separate even adjacent objects"
   ]
  },
  {
   "cell_type": "markdown",
   "metadata": {
    "slideshow": {
     "slide_type": "slide"
    }
   },
   "source": [
    "#Solar Irradiance Prediction\n",
    "* Solar power is providing a rapidly growing share of the electricity generated worldwide\n",
    "* Electric grids are more vulnerable to irregular fluxations in solar energy generation\n",
    "* Improved forecasting of solar irradiance leads to fewer surprises, cheaper solar energy\n",
    "* Best forecasting methods combine NWP output with a statistical learning model"
   ]
  },
  {
   "cell_type": "markdown",
   "metadata": {
    "slideshow": {
     "slide_type": "slide"
    }
   },
   "source": [
    "#Loading Data\n",
    "NWP Output comes from NAM; observations are pyranometers from MADIS network"
   ]
  },
  {
   "cell_type": "code",
   "execution_count": 11,
   "metadata": {
    "collapsed": false
   },
   "outputs": [
    {
     "ename": "TypeError",
     "evalue": "parser_f() takes at least 1 argument (0 given)",
     "output_type": "error",
     "traceback": [
      "\u001b[0;31m---------------------------------------------------------------------------\u001b[0m",
      "\u001b[0;31mTypeError\u001b[0m                                 Traceback (most recent call last)",
      "\u001b[0;32m<ipython-input-11-176c96f10a3b>\u001b[0m in \u001b[0;36m<module>\u001b[0;34m()\u001b[0m\n\u001b[0;32m----> 1\u001b[0;31m \u001b[0msolar_training_data\u001b[0m \u001b[0;34m=\u001b[0m \u001b[0mpd\u001b[0m\u001b[0;34m.\u001b[0m\u001b[0mread_csv\u001b[0m\u001b[0;34m(\u001b[0m\u001b[0;34m)\u001b[0m\u001b[0;34m\u001b[0m\u001b[0m\n\u001b[0m\u001b[1;32m      2\u001b[0m \u001b[0msolar_testing_data\u001b[0m \u001b[0;34m=\u001b[0m \u001b[0mpd\u001b[0m\u001b[0;34m.\u001b[0m\u001b[0mread_csv\u001b[0m\u001b[0;34m(\u001b[0m\u001b[0;34m)\u001b[0m\u001b[0;34m\u001b[0m\u001b[0m\n",
      "\u001b[0;31mTypeError\u001b[0m: parser_f() takes at least 1 argument (0 given)"
     ]
    }
   ],
   "source": [
    "solar_training_data = pd.read_csv()\n",
    "solar_testing_data = pd.read_csv()"
   ]
  },
  {
   "cell_type": "markdown",
   "metadata": {
    "slideshow": {
     "slide_type": "slide"
    }
   },
   "source": [
    "#Statistical (Machine) Learning Models\n",
    "* Scikit-learn provides a straightforward Python interface to many common statistical learning models"
   ]
  },
  {
   "cell_type": "code",
   "execution_count": 12,
   "metadata": {
    "collapsed": true
   },
   "outputs": [],
   "source": [
    "# Linear regression\n",
    "from sklearn.linear_model import LinearRegression\n",
    "# Random forest\n",
    "from sklearn.ensemble import RandomForestRegressor\n",
    "# Gradient Boosting Regression Trees\n",
    "from sklearn.ensemble import GradientBoostingRegressor"
   ]
  },
  {
   "cell_type": "markdown",
   "metadata": {
    "slideshow": {
     "slide_type": "slide"
    }
   },
   "source": [
    "#Setting Model Parameters"
   ]
  },
  {
   "cell_type": "code",
   "execution_count": 13,
   "metadata": {
    "collapsed": true
   },
   "outputs": [],
   "source": [
    "lm = LinearRegression()\n",
    "rf = RandomForestRegressor()\n",
    "gbr = GradientBoostingRegressor()"
   ]
  },
  {
   "cell_type": "markdown",
   "metadata": {
    "slideshow": {
     "slide_type": "slide"
    }
   },
   "source": [
    "# Fitting and Evaluating the Models"
   ]
  },
  {
   "cell_type": "code",
   "execution_count": null,
   "metadata": {
    "collapsed": true
   },
   "outputs": [],
   "source": []
  },
  {
   "cell_type": "markdown",
   "metadata": {
    "slideshow": {
     "slide_type": "slide"
    }
   },
   "source": [
    "# Ranking Input Features"
   ]
  },
  {
   "cell_type": "code",
   "execution_count": null,
   "metadata": {
    "collapsed": true
   },
   "outputs": [],
   "source": []
  },
  {
   "cell_type": "markdown",
   "metadata": {
    "slideshow": {
     "slide_type": "slide"
    }
   },
   "source": [
    "# Comparing Model Error"
   ]
  },
  {
   "cell_type": "code",
   "execution_count": null,
   "metadata": {
    "collapsed": true
   },
   "outputs": [],
   "source": []
  },
  {
   "cell_type": "markdown",
   "metadata": {
    "slideshow": {
     "slide_type": "slide"
    }
   },
   "source": [
    "# Visualizing Model Predictions"
   ]
  },
  {
   "cell_type": "code",
   "execution_count": null,
   "metadata": {
    "collapsed": true
   },
   "outputs": [],
   "source": []
  },
  {
   "cell_type": "markdown",
   "metadata": {
    "slideshow": {
     "slide_type": "slide"
    }
   },
   "source": [
    "# Summary\n",
    "* Presentation and code available at http://www.github.com/djgagne/\n",
    "* Scientific Python libraries available through Anaconda Python Distribution"
   ]
  }
 ],
 "metadata": {
  "celltoolbar": "Slideshow",
  "kernelspec": {
   "display_name": "Python 2",
   "language": "python",
   "name": "python2"
  },
  "language_info": {
   "codemirror_mode": {
    "name": "ipython",
    "version": 2
   },
   "file_extension": ".py",
   "mimetype": "text/x-python",
   "name": "python",
   "nbconvert_exporter": "python",
   "pygments_lexer": "ipython2",
   "version": "2.7.9"
  }
 },
 "nbformat": 4,
 "nbformat_minor": 0
}
